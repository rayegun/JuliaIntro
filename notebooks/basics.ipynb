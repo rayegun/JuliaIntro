{
 "cells": [
  {
   "cell_type": "markdown",
   "source": [
    "# Julia Basic Syntax"
   ],
   "metadata": {}
  },
  {
   "cell_type": "markdown",
   "source": [
    "## Variables\n",
    "A variable is simply a named value."
   ],
   "metadata": {}
  },
  {
   "outputs": [
    {
     "output_type": "execute_result",
     "data": {
      "text/plain": "true"
     },
     "metadata": {},
     "execution_count": 1
    }
   ],
   "cell_type": "code",
   "source": [
    "w = 10 # Int\n",
    "x = 1.0 # Float64\n",
    "y = true # Bool"
   ],
   "metadata": {},
   "execution_count": 1
  },
  {
   "cell_type": "markdown",
   "source": [
    "Assignments (like most Julia code) are an ***expression***.\n",
    "Meaning it has a *value* equal to the RHS.\n",
    "This lets us, for instance, chain assignments:"
   ],
   "metadata": {}
  },
  {
   "outputs": [
    {
     "output_type": "execute_result",
     "data": {
      "text/plain": "5"
     },
     "metadata": {},
     "execution_count": 2
    }
   ],
   "cell_type": "code",
   "source": [
    "i = j = 5 # both i and j are equal to 5"
   ],
   "metadata": {},
   "execution_count": 2
  },
  {
   "cell_type": "markdown",
   "source": [
    "Variables are not constrained to a particular type."
   ],
   "metadata": {}
  },
  {
   "outputs": [
    {
     "output_type": "execute_result",
     "data": {
      "text/plain": "\"Howdy folks!\""
     },
     "metadata": {},
     "execution_count": 3
    }
   ],
   "cell_type": "code",
   "source": [
    "z = \"Howdy folks!\" # reassign z to a different type."
   ],
   "metadata": {},
   "execution_count": 3
  },
  {
   "cell_type": "markdown",
   "source": [
    "Julia has support for Unicode variable names.\n",
    "In VSCode and the REPL we can use autocompletion such as `\\Sigma`-TAB-`\\hat`-TAB-`\\^2`-TAB"
   ],
   "metadata": {}
  },
  {
   "outputs": [
    {
     "output_type": "execute_result",
     "data": {
      "text/plain": "1.0"
     },
     "metadata": {},
     "execution_count": 4
    }
   ],
   "cell_type": "code",
   "source": [
    "Σ̂² = 1.0"
   ],
   "metadata": {},
   "execution_count": 4
  },
  {
   "cell_type": "markdown",
   "source": [
    "The RHS of each of the expressions above is a *literal*.\n",
    "Julia allows for *numeric* literals to be **immediately** followed by a variable, which results in multiplication:"
   ],
   "metadata": {}
  },
  {
   "outputs": [
    {
     "output_type": "execute_result",
     "data": {
      "text/plain": "3.0"
     },
     "metadata": {},
     "execution_count": 5
    }
   ],
   "cell_type": "code",
   "source": [
    "3x"
   ],
   "metadata": {},
   "execution_count": 5
  },
  {
   "cell_type": "markdown",
   "source": [
    "This helps us write long equations very nicely:"
   ],
   "metadata": {}
  },
  {
   "outputs": [
    {
     "output_type": "execute_result",
     "data": {
      "text/plain": "54.0"
     },
     "metadata": {},
     "execution_count": 6
    }
   ],
   "cell_type": "code",
   "source": [
    "4(x + 3)^2 - 10"
   ],
   "metadata": {},
   "execution_count": 6
  },
  {
   "cell_type": "markdown",
   "source": [
    "This functionality is also used for complex number literals, with the global constant `im`:"
   ],
   "metadata": {}
  },
  {
   "outputs": [
    {
     "output_type": "execute_result",
     "data": {
      "text/plain": "10 + 3im"
     },
     "metadata": {},
     "execution_count": 7
    }
   ],
   "cell_type": "code",
   "source": [
    "10 + 3im"
   ],
   "metadata": {},
   "execution_count": 7
  },
  {
   "cell_type": "markdown",
   "source": [
    "Julia has rich support for arrays. More on that later, but for now we can define a `Vector`\n",
    "of Float64 numbers as:"
   ],
   "metadata": {}
  },
  {
   "outputs": [
    {
     "output_type": "execute_result",
     "data": {
      "text/plain": "3-element Vector{Float64}:\n 1.0\n 2.0\n 3.141592653589793"
     },
     "metadata": {},
     "execution_count": 8
    }
   ],
   "cell_type": "code",
   "source": [
    "a = [1.0, 2.0, π]"
   ],
   "metadata": {},
   "execution_count": 8
  },
  {
   "cell_type": "markdown",
   "source": [
    "We will also encounter `Tuple`s frequently. Unlike a Vector (or the more general Array)\n",
    "`Tuple`s are *immutable* (they cannot be modified) and *fixed-length*. Tuple literals are written as:"
   ],
   "metadata": {}
  },
  {
   "outputs": [
    {
     "output_type": "execute_result",
     "data": {
      "text/plain": "([1.0, 2.0, 3.141592653589793], 1.0, \"Good Morning!\")"
     },
     "metadata": {},
     "execution_count": 9
    }
   ],
   "cell_type": "code",
   "source": [
    "t = (a, 1.0, \"Good Morning!\")"
   ],
   "metadata": {},
   "execution_count": 9
  },
  {
   "cell_type": "markdown",
   "source": [
    "## Operators and Functions\n",
    "Like most languages Julia has two syntaxes for operating on values: operators and function calls.\n",
    "\n",
    "### Operators\n",
    "There is a very rich set of operators"
   ],
   "metadata": {}
  },
  {
   "outputs": [
    {
     "output_type": "execute_result",
     "data": {
      "text/plain": "11.0"
     },
     "metadata": {},
     "execution_count": 10
    }
   ],
   "cell_type": "code",
   "source": [
    "w + x"
   ],
   "metadata": {},
   "execution_count": 10
  },
  {
   "outputs": [
    {
     "output_type": "execute_result",
     "data": {
      "text/plain": "32"
     },
     "metadata": {},
     "execution_count": 11
    }
   ],
   "cell_type": "code",
   "source": [
    "2 ^ 5"
   ],
   "metadata": {},
   "execution_count": 11
  },
  {
   "cell_type": "markdown",
   "source": [
    "There are also Unicode operators, for instance this is integer division:"
   ],
   "metadata": {}
  },
  {
   "outputs": [
    {
     "output_type": "execute_result",
     "data": {
      "text/plain": "2"
     },
     "metadata": {},
     "execution_count": 12
    }
   ],
   "cell_type": "code",
   "source": [
    "5 ÷ 2 # (`5 \\div`-TAB-`2`)"
   ],
   "metadata": {},
   "execution_count": 12
  },
  {
   "outputs": [
    {
     "output_type": "execute_result",
     "data": {
      "text/plain": "2.0"
     },
     "metadata": {},
     "execution_count": 13
    }
   ],
   "cell_type": "code",
   "source": [
    "∛8 # `\\cbrt`-TAB-`8`"
   ],
   "metadata": {},
   "execution_count": 13
  },
  {
   "cell_type": "markdown",
   "source": [
    "The boolean operators are:"
   ],
   "metadata": {}
  },
  {
   "outputs": [
    {
     "output_type": "execute_result",
     "data": {
      "text/plain": "true"
     },
     "metadata": {},
     "execution_count": 14
    }
   ],
   "cell_type": "code",
   "source": [
    "!y # negation\n",
    "false && y # short circuiting and\n",
    "y || true # short circuiting or"
   ],
   "metadata": {},
   "execution_count": 14
  },
  {
   "cell_type": "markdown",
   "source": [
    "There are operators that update a variable, such as:"
   ],
   "metadata": {}
  },
  {
   "outputs": [
    {
     "output_type": "execute_result",
     "data": {
      "text/plain": "13"
     },
     "metadata": {},
     "execution_count": 15
    }
   ],
   "cell_type": "code",
   "source": [
    "w += 3"
   ],
   "metadata": {},
   "execution_count": 15
  },
  {
   "cell_type": "markdown",
   "source": [
    "### Functions\n",
    "Functions are called much as they are in Python or similar languages:"
   ],
   "metadata": {}
  },
  {
   "outputs": [
    {
     "output_type": "execute_result",
     "data": {
      "text/plain": "0.9092974268256817"
     },
     "metadata": {},
     "execution_count": 16
    }
   ],
   "cell_type": "code",
   "source": [
    "sin(2x)"
   ],
   "metadata": {},
   "execution_count": 16
  },
  {
   "outputs": [
    {
     "output_type": "execute_result",
     "data": {
      "text/plain": "3"
     },
     "metadata": {},
     "execution_count": 17
    }
   ],
   "cell_type": "code",
   "source": [
    "length(a)"
   ],
   "metadata": {},
   "execution_count": 17
  },
  {
   "outputs": [
    {
     "output_type": "execute_result",
     "data": {
      "text/plain": "1.0 + 10.0im"
     },
     "metadata": {},
     "execution_count": 18
    }
   ],
   "cell_type": "code",
   "source": [
    "complex(1.0, 10)"
   ],
   "metadata": {},
   "execution_count": 18
  },
  {
   "cell_type": "markdown",
   "source": [
    "There are three syntaxes for defining functions. The first two produce named functions, the general form:"
   ],
   "metadata": {}
  },
  {
   "outputs": [
    {
     "output_type": "execute_result",
     "data": {
      "text/plain": "foo (generic function with 1 method)"
     },
     "metadata": {},
     "execution_count": 19
    }
   ],
   "cell_type": "code",
   "source": [
    "function foo(x, y)\n",
    "    # we don't actually need the `return` here\n",
    "    # the last expression is returned by default\n",
    "    return x + y\n",
    "end"
   ],
   "metadata": {},
   "execution_count": 19
  },
  {
   "cell_type": "markdown",
   "source": [
    "And the terse form which is typically used if your function is a single expression:"
   ],
   "metadata": {}
  },
  {
   "outputs": [
    {
     "output_type": "execute_result",
     "data": {
      "text/plain": "bar (generic function with 1 method)"
     },
     "metadata": {},
     "execution_count": 20
    }
   ],
   "cell_type": "code",
   "source": [
    "bar(x, y) = x + y"
   ],
   "metadata": {},
   "execution_count": 20
  },
  {
   "cell_type": "markdown",
   "source": [
    "We can call this function as above:"
   ],
   "metadata": {}
  },
  {
   "outputs": [
    {
     "output_type": "execute_result",
     "data": {
      "text/plain": "14.0"
     },
     "metadata": {},
     "execution_count": 21
    }
   ],
   "cell_type": "code",
   "source": [
    "foo(w, x)"
   ],
   "metadata": {},
   "execution_count": 21
  },
  {
   "cell_type": "markdown",
   "source": [
    "#### Keyword and optional arguments\n",
    "We can add \"keyword\" arguments to a function by placing them after a semicolon in the arguments:"
   ],
   "metadata": {}
  },
  {
   "outputs": [],
   "cell_type": "code",
   "source": [
    "function mykwargs(a; b)\n",
    "    a ^ b\n",
    "end;"
   ],
   "metadata": {},
   "execution_count": 22
  },
  {
   "cell_type": "markdown",
   "source": [
    "Both positional arguments and keyword arguments can be made optional by providing a default value.\n",
    "Ignore the `@show` for now we'll get to that later, it prints out the expression and its result."
   ],
   "metadata": {}
  },
  {
   "outputs": [
    {
     "name": "stdout",
     "output_type": "stream",
     "text": [
      "myoptionalfunc() = 8\n",
      "myoptionalfunc(b = 3) = 8\n",
      "myoptionalfunc(5) = 125\n"
     ]
    },
    {
     "output_type": "execute_result",
     "data": {
      "text/plain": "125"
     },
     "metadata": {},
     "execution_count": 23
    }
   ],
   "cell_type": "code",
   "source": [
    "function myoptionalfunc(a = 2; b = 3)\n",
    "    a ^ b\n",
    "end\n",
    "@show myoptionalfunc()\n",
    "@show myoptionalfunc(b = 3)\n",
    "@show myoptionalfunc(5)"
   ],
   "metadata": {},
   "execution_count": 23
  },
  {
   "cell_type": "markdown",
   "source": [
    "Operators are \"just\" functions with support for infix notation (except `&&` and `||` which uniquely short circuit)"
   ],
   "metadata": {}
  },
  {
   "outputs": [
    {
     "output_type": "execute_result",
     "data": {
      "text/plain": "10"
     },
     "metadata": {},
     "execution_count": 24
    }
   ],
   "cell_type": "code",
   "source": [
    "+(1, 2, 3, 4)"
   ],
   "metadata": {},
   "execution_count": 24
  },
  {
   "outputs": [
    {
     "output_type": "execute_result",
     "data": {
      "text/plain": "6"
     },
     "metadata": {},
     "execution_count": 25
    }
   ],
   "cell_type": "code",
   "source": [
    "f = *;\n",
    "f(1, 2, 3)"
   ],
   "metadata": {},
   "execution_count": 25
  },
  {
   "cell_type": "markdown",
   "source": [
    "#### Functions are data\n",
    "Just like strings or vectors and can be assigned to variables:"
   ],
   "metadata": {}
  },
  {
   "outputs": [
    {
     "output_type": "execute_result",
     "data": {
      "text/plain": "14.0"
     },
     "metadata": {},
     "execution_count": 26
    }
   ],
   "cell_type": "code",
   "source": [
    "baz = foo\n",
    "baz(w, x)"
   ],
   "metadata": {},
   "execution_count": 26
  },
  {
   "cell_type": "markdown",
   "source": [
    "They can also be passed to other functions:"
   ],
   "metadata": {}
  },
  {
   "outputs": [
    {
     "output_type": "execute_result",
     "data": {
      "text/plain": "3-element Vector{Float64}:\n 0.8414709848078965\n 0.9092974268256817\n 1.2246467991473532e-16"
     },
     "metadata": {},
     "execution_count": 27
    }
   ],
   "cell_type": "code",
   "source": [
    "map(sin, [1.0, 2.0, π])"
   ],
   "metadata": {},
   "execution_count": 27
  },
  {
   "cell_type": "markdown",
   "source": [
    "#### Anonymous functions\n",
    "The third syntax for defining a function is for so-called anonymous functions (functions without a name)"
   ],
   "metadata": {}
  },
  {
   "outputs": [
    {
     "output_type": "execute_result",
     "data": {
      "text/plain": "#3 (generic function with 1 method)"
     },
     "metadata": {},
     "execution_count": 28
    }
   ],
   "cell_type": "code",
   "source": [
    "x -> 5x + (x - 1)^2"
   ],
   "metadata": {},
   "execution_count": 28
  },
  {
   "cell_type": "markdown",
   "source": [
    "Of course we didn't give it a name, so now we have no way to reference it!\n",
    "These are most often used to pass to \"higher-order\" functions (functions that accept other functions as arguments):"
   ],
   "metadata": {}
  },
  {
   "outputs": [
    {
     "output_type": "execute_result",
     "data": {
      "text/plain": "3-element Vector{Float64}:\n  5.0\n 11.0\n 20.294382361858737"
     },
     "metadata": {},
     "execution_count": 29
    }
   ],
   "cell_type": "code",
   "source": [
    "map(x -> 5x + (x - 1)^2, a)"
   ],
   "metadata": {},
   "execution_count": 29
  },
  {
   "cell_type": "markdown",
   "source": [
    "For anonymous functions with multiple arguments the syntax looks like this:"
   ],
   "metadata": {}
  },
  {
   "outputs": [
    {
     "output_type": "execute_result",
     "data": {
      "text/plain": "#7 (generic function with 1 method)"
     },
     "metadata": {},
     "execution_count": 30
    }
   ],
   "cell_type": "code",
   "source": [
    "(x, y, z) -> x/3 + y^3 + z^2"
   ],
   "metadata": {},
   "execution_count": 30
  },
  {
   "cell_type": "markdown",
   "source": [
    "or with zero arguments like this:"
   ],
   "metadata": {}
  },
  {
   "outputs": [
    {
     "output_type": "execute_result",
     "data": {
      "text/plain": "#9 (generic function with 1 method)"
     },
     "metadata": {},
     "execution_count": 31
    }
   ],
   "cell_type": "code",
   "source": [
    "() -> 2 + 2"
   ],
   "metadata": {},
   "execution_count": 31
  },
  {
   "cell_type": "markdown",
   "source": [
    "### Broadcasting\n",
    "We often encounter situations where we want to call a function such as `sin`\n",
    "over all elements of a collection like a `Vector`.\n",
    "In order to make this ergonomic Julia supports a generalized \"broadcasting\" syntax:"
   ],
   "metadata": {}
  },
  {
   "outputs": [
    {
     "output_type": "execute_result",
     "data": {
      "text/plain": "3-element Vector{Float64}:\n 0.8414709848078965\n 0.9092974268256817\n 0.1411200080598672"
     },
     "metadata": {},
     "execution_count": 32
    }
   ],
   "cell_type": "code",
   "source": [
    "sin.([1, 2, 3])"
   ],
   "metadata": {},
   "execution_count": 32
  },
  {
   "cell_type": "markdown",
   "source": [
    "Any function can be suffixed with a `.` in order to broadcast it elementwise over each value in a collection.\n",
    "This also works elementwise, for instance:"
   ],
   "metadata": {}
  },
  {
   "outputs": [
    {
     "output_type": "execute_result",
     "data": {
      "text/plain": "3-element Vector{Complex{Int64}}:\n 1 + 10im\n 2 + 20im\n 3 + 30im"
     },
     "metadata": {},
     "execution_count": 33
    }
   ],
   "cell_type": "code",
   "source": [
    "complex.([1, 2, 3], [10, 20, 30])"
   ],
   "metadata": {},
   "execution_count": 33
  },
  {
   "cell_type": "markdown",
   "source": [
    "or with operators in infix form:"
   ],
   "metadata": {}
  },
  {
   "outputs": [
    {
     "output_type": "execute_result",
     "data": {
      "text/plain": "3-element Vector{Int64}:\n 5\n 7\n 9"
     },
     "metadata": {},
     "execution_count": 34
    }
   ],
   "cell_type": "code",
   "source": [
    "[1, 2, 3] .+ [4, 5, 6]"
   ],
   "metadata": {},
   "execution_count": 34
  },
  {
   "cell_type": "markdown",
   "source": [
    "## Control Flow\n",
    "We now know how to define variables, call functions and operators, and define functions.\n",
    "We'll use the following function that computes a single point in the mandelbrot set to explore control flow:"
   ],
   "metadata": {}
  },
  {
   "outputs": [
    {
     "output_type": "execute_result",
     "data": {
      "text/plain": "0"
     },
     "metadata": {},
     "execution_count": 35
    }
   ],
   "cell_type": "code",
   "source": [
    "function mandel(z)\n",
    "\tc = z\n",
    "\tmaxiter = 80\n",
    "\tfor n in 1:maxiter\n",
    "\t  if abs(z) > 2\n",
    "\t\t  return n-1\n",
    "\t  end\n",
    "\t  z = z^2 + c\n",
    "\tend\n",
    "\treturn maxiter\n",
    "end\n",
    "\n",
    "mandel(1 + 2im)"
   ],
   "metadata": {},
   "execution_count": 35
  },
  {
   "cell_type": "markdown",
   "source": [
    "We need a complex plane to compute the set on:"
   ],
   "metadata": {}
  },
  {
   "outputs": [
    {
     "output_type": "execute_result",
     "data": {
      "text/plain": "-1.0:0.02:1.0"
     },
     "metadata": {},
     "execution_count": 36
    }
   ],
   "cell_type": "code",
   "source": [
    "resolution = 0.02\n",
    "reals = -2:resolution:1\n",
    "imgs = -1:resolution:1"
   ],
   "metadata": {},
   "execution_count": 36
  },
  {
   "outputs": [
    {
     "output_type": "execute_result",
     "data": {
      "text/plain": "151×101 Matrix{ComplexF64}:\n  -2.0-1.0im   -2.0-0.98im   -2.0-0.96im  …   -2.0+0.98im   -2.0+1.0im\n -1.98-1.0im  -1.98-0.98im  -1.98-0.96im     -1.98+0.98im  -1.98+1.0im\n -1.96-1.0im  -1.96-0.98im  -1.96-0.96im     -1.96+0.98im  -1.96+1.0im\n -1.94-1.0im  -1.94-0.98im  -1.94-0.96im     -1.94+0.98im  -1.94+1.0im\n -1.92-1.0im  -1.92-0.98im  -1.92-0.96im     -1.92+0.98im  -1.92+1.0im\n  -1.9-1.0im   -1.9-0.98im   -1.9-0.96im  …   -1.9+0.98im   -1.9+1.0im\n -1.88-1.0im  -1.88-0.98im  -1.88-0.96im     -1.88+0.98im  -1.88+1.0im\n -1.86-1.0im  -1.86-0.98im  -1.86-0.96im     -1.86+0.98im  -1.86+1.0im\n -1.84-1.0im  -1.84-0.98im  -1.84-0.96im     -1.84+0.98im  -1.84+1.0im\n -1.82-1.0im  -1.82-0.98im  -1.82-0.96im     -1.82+0.98im  -1.82+1.0im\n      ⋮                                   ⋱                     ⋮\n  0.84-1.0im   0.84-0.98im   0.84-0.96im      0.84+0.98im   0.84+1.0im\n  0.86-1.0im   0.86-0.98im   0.86-0.96im      0.86+0.98im   0.86+1.0im\n  0.88-1.0im   0.88-0.98im   0.88-0.96im      0.88+0.98im   0.88+1.0im\n   0.9-1.0im    0.9-0.98im    0.9-0.96im  …    0.9+0.98im    0.9+1.0im\n  0.92-1.0im   0.92-0.98im   0.92-0.96im      0.92+0.98im   0.92+1.0im\n  0.94-1.0im   0.94-0.98im   0.94-0.96im      0.94+0.98im   0.94+1.0im\n  0.96-1.0im   0.96-0.98im   0.96-0.96im      0.96+0.98im   0.96+1.0im\n  0.98-1.0im   0.98-0.98im   0.98-0.96im      0.98+0.98im   0.98+1.0im\n   1.0-1.0im    1.0-0.98im    1.0-0.96im  …    1.0+0.98im    1.0+1.0im"
     },
     "metadata": {},
     "execution_count": 37
    }
   ],
   "cell_type": "code",
   "source": [
    "plane = [complex(re, img) for (re, img) in Iterators.product(reals, imgs)]"
   ],
   "metadata": {},
   "execution_count": 37
  },
  {
   "outputs": [
    {
     "output_type": "execute_result",
     "data": {
      "text/plain": "151×101 Matrix{Int64}:\n 0  0  0  0  0  0  0  0  0  0  0  0  0  …  0  0  0  0  0  0  0  0  0  0  0  0\n 0  0  0  0  0  0  0  0  0  0  0  0  0     0  0  0  0  0  0  0  0  0  0  0  0\n 0  0  0  0  0  0  0  0  0  0  0  0  0     0  0  0  0  0  0  0  0  0  0  0  0\n 0  0  0  0  0  0  0  0  0  0  0  0  0     0  0  0  0  0  0  0  0  0  0  0  0\n 0  0  0  0  0  0  0  0  0  0  0  0  0     0  0  0  0  0  0  0  0  0  0  0  0\n 0  0  0  0  0  0  0  0  0  0  0  0  0  …  0  0  0  0  0  0  0  0  0  0  0  0\n 0  0  0  0  0  0  0  0  0  0  0  0  0     0  0  0  0  0  0  0  0  0  0  0  0\n 0  0  0  0  0  0  0  0  0  0  0  0  0     0  0  0  0  0  0  0  0  0  0  0  0\n 0  0  0  0  0  0  0  0  0  0  0  1  1     1  0  0  0  0  0  0  0  0  0  0  0\n 0  0  0  0  0  0  0  0  0  1  1  1  1     1  1  1  0  0  0  0  0  0  0  0  0\n ⋮              ⋮              ⋮        ⋱     ⋮              ⋮              ⋮\n 1  1  1  1  1  1  1  1  1  1  1  1  1     1  1  1  1  1  1  1  1  1  1  1  1\n 1  1  1  1  1  1  1  1  1  1  1  1  1     1  1  1  1  1  1  1  1  1  1  1  1\n 1  1  1  1  1  1  1  1  1  1  1  1  1     1  1  1  1  1  1  1  1  1  1  1  1\n 1  1  1  1  1  1  1  1  1  1  1  1  1  …  1  1  1  1  1  1  1  1  1  1  1  1\n 1  1  1  1  1  1  1  1  1  1  1  1  1     1  1  1  1  1  1  1  1  1  1  1  1\n 1  1  1  1  1  1  1  1  1  1  1  1  1     1  1  1  1  1  1  1  1  1  1  1  1\n 1  1  1  1  1  1  1  1  1  1  1  1  1     1  1  1  1  1  1  1  1  1  1  1  1\n 1  1  1  1  1  1  1  1  1  1  1  1  1     1  1  1  1  1  1  1  1  1  1  1  1\n 1  1  1  1  1  1  1  1  1  1  1  1  1  …  1  1  1  1  1  1  1  1  1  1  1  1"
     },
     "metadata": {},
     "execution_count": 38
    }
   ],
   "cell_type": "code",
   "source": [
    "results = mandel.(plane)"
   ],
   "metadata": {},
   "execution_count": 38
  },
  {
   "cell_type": "markdown",
   "source": [
    "We're going to use a package called CairoMakie to plot the result:"
   ],
   "metadata": {}
  },
  {
   "outputs": [
    {
     "output_type": "execute_result",
     "data": {
      "text/plain": "FigureAxisPlot()",
      "image/png": "[encoded data removed]",
      "text/html": [
       "<img width=600 height=450 style='object-fit: contain; height: auto;' src=\"data:image/png;base64, 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\"/>"
      ]
     },
     "metadata": {},
     "execution_count": 39
    }
   ],
   "cell_type": "code",
   "source": [
    "using CairoMakie\n",
    "heatmap(results)"
   ],
   "metadata": {},
   "execution_count": 39
  },
  {
   "cell_type": "markdown",
   "source": [
    "---\n",
    "\n",
    "*This notebook was generated using [Literate.jl](https://github.com/fredrikekre/Literate.jl).*"
   ],
   "metadata": {}
  }
 ],
 "nbformat_minor": 3,
 "metadata": {
  "language_info": {
   "file_extension": ".jl",
   "mimetype": "application/julia",
   "name": "julia",
   "version": "1.11.6"
  },
  "kernelspec": {
   "name": "julia-1.11",
   "display_name": "Julia 1.11.6",
   "language": "julia"
  }
 },
 "nbformat": 4
}
